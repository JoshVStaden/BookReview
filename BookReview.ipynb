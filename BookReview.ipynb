{
 "cells": [
  {
   "cell_type": "markdown",
   "metadata": {
    "colab_type": "text",
    "id": "eHGm8RQlK46m"
   },
   "source": [
    "# Get and explore dataset"
   ]
  },
  {
   "cell_type": "code",
   "execution_count": 45,
   "metadata": {
    "colab": {},
    "colab_type": "code",
    "id": "-erlYw1jXtgh"
   },
   "outputs": [],
   "source": [
    "import matplotlib.pyplot as plt\n",
    "from matplotlib import pyplot\n",
    "import numpy as np\n",
    "import re"
   ]
  },
  {
   "cell_type": "code",
   "execution_count": 46,
   "metadata": {
    "colab": {},
    "colab_type": "code",
    "id": "goZIhX8nII4T"
   },
   "outputs": [],
   "source": [
    "# Make results reproducible - set random seed\n",
    "from numpy.random import seed\n",
    "seed(42)"
   ]
  },
  {
   "cell_type": "code",
   "execution_count": 47,
   "metadata": {
    "colab": {},
    "colab_type": "code",
    "id": "v_fEysQHII4W",
    "tags": []
   },
   "outputs": [],
   "source": [
    "negative_file = \"negative.txt\"\n",
    "positive_file = \"positive.txt\""
   ]
  },
  {
   "cell_type": "code",
   "execution_count": 48,
   "metadata": {
    "colab": {},
    "colab_type": "code",
    "id": "0rWm4yycII4Y",
    "tags": []
   },
   "outputs": [],
   "source": [
    "# Do not modify - helper function to load and preprocess data\n",
    "def filter_words(line):    \n",
    "    line = re.sub(r'[^\\w\\s]','',line.rstrip())\n",
    "    words = line.split(\" \") \n",
    "    words = [i.lower() for i in words if i]      \n",
    "    return \" \".join(words)\n",
    "\n",
    "def load_data(filename):\n",
    "    thefile = open(filename, 'r') \n",
    "    lines = thefile.readlines() \n",
    "\n",
    "    data = []\n",
    "    for l in range(0,len(lines)): \n",
    "        if(lines[l-1].strip() == \"<title>\"): \n",
    "            theline = filter_words(lines[l])\n",
    "            if(len(theline) < 50):\n",
    "                data.append(theline)            \n",
    "            \n",
    "    return data\n",
    "\n",
    "# Helper function to convert categorical data to class label\n",
    "def to_word_label(y):\n",
    "    y = to_class(y)   \n",
    "    return [\"positive\" if i==0 else \"negative\" for i in y]\n",
    "\n",
    "# Helper function to convert class label to numeric label\n",
    "def to_numeric_label(y):\n",
    "  return [0 if i==\"positive\" else 1 for i in word_labels]\n",
    "\n",
    "# Helper function: this function needs to be called before sending arrays to sklearn metrics,\n",
    "# it converts back to class form from categorical form. ie: [1,0] --> 0, [0,1] --> 1\n",
    "def to_class(y):\n",
    "    return np.argmax(y,axis=1) "
   ]
  },
  {
   "cell_type": "code",
   "execution_count": 49,
   "metadata": {
    "colab": {
     "base_uri": "https://localhost:8080/",
     "height": 70
    },
    "colab_type": "code",
    "id": "jjGUiFm9II4b",
    "outputId": "aa5eb89b-85f2-4d61-f33a-b00361b19a41",
    "tags": []
   },
   "outputs": [
    {
     "name": "stdout",
     "output_type": "stream",
     "text": [
      "['one of the best crichton novels', 'the medicine of the future', 'beautiful', 'for lovers of robicheaux', 'a good book', 'to the point and beautifully illustrated', 'at least somebody has got it', 'beautifully written heartwarming story', 'an excellent cookbook full of delicious recipes', 'an outstanding resource']\n",
      "['horrible book horrible', 'shallow selfindulgence', 'horrible book horrible', 'disappointment', 'a disappointing mess', 'save your money there are better books out there', 'thank you but no thanks', 'unendurable', 'the hard way', 'some good info among the political commercial']\n"
     ]
    }
   ],
   "source": [
    "positive = load_data(positive_file)\n",
    "negative = load_data(negative_file)\n",
    "\n",
    "print(positive[0:10])\n",
    "print(negative[0:10])"
   ]
  },
  {
   "cell_type": "code",
   "execution_count": 50,
   "metadata": {
    "colab": {},
    "colab_type": "code",
    "id": "yrgEYOOCII4d",
    "tags": []
   },
   "outputs": [],
   "source": [
    "# Do not modify - Combines the positive and negative reviews into a single list and create labels\n",
    "data = positive + negative\n",
    "word_labels = [\"positive\"] * len(positive) + [\"negative\"] * len(negative) \n",
    "\n",
    "# Converts labels to numbers in one-hot encoding - [1, 0] (positive) or [0, 1] (negative)\n",
    "from keras.utils import to_categorical\n",
    "labels  = to_categorical(to_numeric_label(word_labels))"
   ]
  },
  {
   "cell_type": "code",
   "execution_count": 51,
   "metadata": {
    "colab": {},
    "colab_type": "code",
    "id": "97Uh2uBpII4l",
    "tags": []
   },
   "outputs": [],
   "source": [
    "# Write some code to investigate the dataset. \n",
    "# - Calculate and report the mean review size, its standard deviation and create a boxplot.\n",
    "# - Calculate the number of words in the dataset\n",
    "# - Perform any other dataset investigation that you feel would be valuable\n",
    " "
   ]
  },
  {
   "cell_type": "code",
   "execution_count": 52,
   "metadata": {
    "colab": {
     "base_uri": "https://localhost:8080/",
     "height": 50
    },
    "colab_type": "code",
    "id": "_XXnArgcII4i",
    "outputId": "020b2ee2-4c2a-4bc0-bb55-e2ae3841fe57",
    "tags": []
   },
   "outputs": [
    {
     "name": "stdout",
     "output_type": "stream",
     "text": [
      "['one of the best crichton novels', 'the medicine of the future', 'beautiful', 'for lovers of robicheaux', 'a good book']\n",
      "[[18, 4, 2, 19], [2, 4, 2], [], [6, 4], [1, 12, 3]]\n"
     ]
    }
   ],
   "source": [
    "# Do not modify - Tokenize the vocabulary \n",
    "from keras.preprocessing.text import Tokenizer\n",
    "\n",
    "tokenizer = Tokenizer(num_words=25)\n",
    "\n",
    "tokenizer.fit_on_texts(data) #create the vocabularry\n",
    "\n",
    "tokenized_data = tokenizer.texts_to_sequences(data) #tokenize the data using the vocabulary\n",
    "\n",
    "vocab_size = len(tokenizer.word_index) + 1 \n",
    "\n",
    "# Compare a sample of the data before and after tokenization\n",
    "print(data[0:5])\n",
    "print(tokenized_data[0:5])"
   ]
  },
  {
   "cell_type": "markdown",
   "metadata": {
    "colab_type": "text",
    "id": "_vsMmLjdK1Gf"
   },
   "source": [
    "# Pre-processing"
   ]
  },
  {
   "cell_type": "code",
   "execution_count": 53,
   "metadata": {
    "colab": {},
    "colab_type": "code",
    "id": "24DaXd1zII4q",
    "tags": []
   },
   "outputs": [],
   "source": [
    "# Pre-processing\n",
    "# Write some code to pre-process the data so that each review is the same length\n",
    "from keras.preprocessing.sequence import pad_sequences\n",
    "padded_tokenized_data = pad_sequences(tokenized_data, maxlen=25)"
   ]
  },
  {
   "cell_type": "code",
   "execution_count": 54,
   "metadata": {
    "colab": {},
    "colab_type": "code",
    "id": "AFTJcFy6II4s",
    "tags": []
   },
   "outputs": [],
   "source": [
    "# Write some code to split the data into a training and test set. Make sure you shuffle the data. Use 20% for the test set.\n",
    "from sklearn.model_selection import train_test_split \n",
    "X_train, X_test, y_train, y_test = train_test_split(padded_tokenized_data, labels, test_size=0.2)"
   ]
  },
  {
   "cell_type": "code",
   "execution_count": 55,
   "metadata": {
    "colab": {
     "base_uri": "https://localhost:8080/",
     "height": 128
    },
    "colab_type": "code",
    "id": "lDth1BSzII4u",
    "outputId": "4614049a-7151-4407-9bc8-54604bbe7fdd"
   },
   "outputs": [],
   "source": [
    "from sklearn.metrics import confusion_matrix, precision_score, recall_score, f1_score\n",
    "\n",
    "# Fill in the following function so it\n",
    "# - makes a prediction for the test set given the model\n",
    "# - reports the precision, recall and f1 score. Also print the confusion matrix. \n",
    "# You will need to use the helper to_class function to convert y_pred and y_test before supplying them to the sklearn functions.\n",
    "\n",
    "def assess_model(model, X_test, y_test):\n",
    "    y_class_test = to_class(y_test)\n",
    "    y_pred = to_class(model.predict(X_test))\n",
    "    precision = precision_score(y_class_test, y_pred)\n",
    "    recall = recall_score(y_class_test, y_pred)\n",
    "    f1 = f1_score(y_class_test, y_pred)\n",
    "    print(\"------------\")\n",
    "    print(\"Precision : \", precision)\n",
    "    print(\"Recall : \", recall)\n",
    "    print(\"F1 Score : \", f1)\n",
    "    print(\"Confusion Matrix : \", confusion_matrix(y_class_test, y_pred))\n",
    "    return precision, recall, f1 "
   ]
  },
  {
   "cell_type": "markdown",
   "metadata": {
    "colab_type": "text",
    "id": "nTqLbbE6MpGt"
   },
   "source": [
    "# Build and tune model"
   ]
  },
  {
   "cell_type": "markdown",
   "metadata": {
    "colab_type": "text",
    "id": "3X70rA4uMXNv"
   },
   "source": [
    "Define network architecture"
   ]
  },
  {
   "cell_type": "code",
   "execution_count": 56,
   "metadata": {
    "colab": {},
    "colab_type": "code",
    "id": "wKoXWKG4II5F"
   },
   "outputs": [],
   "source": [
    "from keras import Sequential\n",
    "from keras.layers import Embedding, SpatialDropout1D, BatchNormalization, LSTM, Dense\n",
    "\n",
    "def build_model(od, b, no_epochs):\n",
    "    embedding_layer = Embedding(vocab_size, od, input_length=25)\n",
    "    dropout_layer = SpatialDropout1D(0.2)\n",
    "    norm_layer = BatchNormalization()\n",
    "    lstm_layer = LSTM(32)\n",
    "    output_layer = Dense(2, activation='softmax')\n",
    "    \n",
    "    model = Sequential()\n",
    "    model.add(embedding_layer)\n",
    "    model.add(dropout_layer)\n",
    "    model.add(norm_layer)\n",
    "    model.add(lstm_layer)\n",
    "    model.add(output_layer)\n",
    "    \n",
    "    model.compile(loss='binary_crossentropy', optimizer='adam', metrics=['accuracy'])\n",
    "    \n",
    "    history = model.fit(X_train, y_train, batch_size=b, epochs=no_epochs)\n",
    "    \n",
    "    return model, history, assess_model(model, X_test, y_test)"
   ]
  },
  {
   "cell_type": "markdown",
   "metadata": {
    "colab_type": "text",
    "id": "llS0-VKBMbz-"
   },
   "source": [
    "Train model"
   ]
  },
  {
   "cell_type": "code",
   "execution_count": null,
   "metadata": {
    "colab": {},
    "colab_type": "code",
    "id": "F5IJs0QuMe_I"
   },
   "outputs": [
    {
     "name": "stdout",
     "output_type": "stream",
     "text": [
      "Epoch 1/50\n",
      "72/72 [==============================] - 1s 14ms/step - loss: 0.6885 - accuracy: 0.5425\n",
      "Epoch 2/50\n",
      "72/72 [==============================] - 1s 14ms/step - loss: 0.6624 - accuracy: 0.6011\n",
      "Epoch 3/50\n",
      "72/72 [==============================] - 1s 14ms/step - loss: 0.6565 - accuracy: 0.5921\n",
      "Epoch 4/50\n",
      "72/72 [==============================] - 1s 14ms/step - loss: 0.6476 - accuracy: 0.6192\n",
      "Epoch 5/50\n",
      "72/72 [==============================] - 1s 14ms/step - loss: 0.6439 - accuracy: 0.6283\n",
      "Epoch 6/50\n",
      "72/72 [==============================] - 1s 13ms/step - loss: 0.6390 - accuracy: 0.6241\n",
      "Epoch 7/50\n",
      "72/72 [==============================] - 1s 14ms/step - loss: 0.6403 - accuracy: 0.6158\n",
      "Epoch 8/50\n",
      "72/72 [==============================] - 1s 14ms/step - loss: 0.6290 - accuracy: 0.6290\n",
      "Epoch 9/50\n",
      "72/72 [==============================] - 1s 14ms/step - loss: 0.6347 - accuracy: 0.6220\n",
      "Epoch 10/50\n",
      "72/72 [==============================] - 1s 14ms/step - loss: 0.6347 - accuracy: 0.6241\n",
      "Epoch 11/50\n",
      "72/72 [==============================] - 1s 14ms/step - loss: 0.6260 - accuracy: 0.6269\n",
      "Epoch 12/50\n",
      "72/72 [==============================] - 1s 14ms/step - loss: 0.6233 - accuracy: 0.6234\n",
      "Epoch 13/50\n",
      "72/72 [==============================] - 1s 14ms/step - loss: 0.6247 - accuracy: 0.6346\n",
      "Epoch 14/50\n",
      "72/72 [==============================] - 1s 14ms/step - loss: 0.6225 - accuracy: 0.6255\n",
      "Epoch 15/50\n",
      "72/72 [==============================] - 1s 14ms/step - loss: 0.6171 - accuracy: 0.6409\n",
      "Epoch 16/50\n",
      "72/72 [==============================] - 1s 14ms/step - loss: 0.6161 - accuracy: 0.6471\n",
      "Epoch 17/50\n",
      "72/72 [==============================] - 1s 14ms/step - loss: 0.6171 - accuracy: 0.6290\n",
      "Epoch 18/50\n",
      "72/72 [==============================] - 1s 14ms/step - loss: 0.6115 - accuracy: 0.6437\n",
      "Epoch 19/50\n",
      "72/72 [==============================] - 1s 14ms/step - loss: 0.6059 - accuracy: 0.6437\n",
      "Epoch 20/50\n",
      "72/72 [==============================] - 1s 14ms/step - loss: 0.6050 - accuracy: 0.6520\n",
      "Epoch 21/50\n",
      "72/72 [==============================] - 1s 14ms/step - loss: 0.5996 - accuracy: 0.6527\n",
      "Epoch 22/50\n",
      "72/72 [==============================] - 1s 14ms/step - loss: 0.6054 - accuracy: 0.6388\n",
      "Epoch 23/50\n",
      "72/72 [==============================] - 1s 14ms/step - loss: 0.6006 - accuracy: 0.6492\n",
      "Epoch 24/50\n",
      "72/72 [==============================] - 1s 14ms/step - loss: 0.5970 - accuracy: 0.6506\n",
      "Epoch 25/50\n",
      "72/72 [==============================] - 1s 14ms/step - loss: 0.5991 - accuracy: 0.6478\n",
      "Epoch 26/50\n",
      "72/72 [==============================] - 1s 14ms/step - loss: 0.5974 - accuracy: 0.6499\n",
      "Epoch 27/50\n",
      "72/72 [==============================] - 1s 14ms/step - loss: 0.5921 - accuracy: 0.6506\n",
      "Epoch 28/50\n",
      "72/72 [==============================] - 1s 13ms/step - loss: 0.5927 - accuracy: 0.6541\n",
      "Epoch 29/50\n",
      "72/72 [==============================] - 1s 14ms/step - loss: 0.6025 - accuracy: 0.6450\n",
      "Epoch 30/50\n",
      "72/72 [==============================] - 1s 14ms/step - loss: 0.5948 - accuracy: 0.6485\n",
      "Epoch 31/50\n",
      "72/72 [==============================] - 1s 14ms/step - loss: 0.5893 - accuracy: 0.6520\n",
      "Epoch 32/50\n",
      "72/72 [==============================] - 1s 14ms/step - loss: 0.5861 - accuracy: 0.6646\n",
      "Epoch 33/50\n",
      "72/72 [==============================] - 1s 13ms/step - loss: 0.5932 - accuracy: 0.6604\n",
      "Epoch 34/50\n",
      "72/72 [==============================] - 1s 14ms/step - loss: 0.5890 - accuracy: 0.6534\n",
      "Epoch 35/50\n",
      "72/72 [==============================] - 1s 14ms/step - loss: 0.5874 - accuracy: 0.6618\n",
      "Epoch 36/50\n",
      "72/72 [==============================] - 1s 14ms/step - loss: 0.5841 - accuracy: 0.6667\n",
      "Epoch 37/50\n",
      "72/72 [==============================] - 1s 14ms/step - loss: 0.5812 - accuracy: 0.6562\n",
      "Epoch 38/50\n",
      "72/72 [==============================] - 1s 14ms/step - loss: 0.5798 - accuracy: 0.6639\n",
      "Epoch 39/50\n",
      "72/72 [==============================] - 1s 14ms/step - loss: 0.5824 - accuracy: 0.6674\n",
      "Epoch 40/50\n",
      "72/72 [==============================] - 1s 14ms/step - loss: 0.5839 - accuracy: 0.6576\n",
      "Epoch 41/50\n",
      "72/72 [==============================] - 1s 15ms/step - loss: 0.5808 - accuracy: 0.6625\n",
      "Epoch 42/50\n",
      "72/72 [==============================] - 1s 14ms/step - loss: 0.5776 - accuracy: 0.6688\n",
      "Epoch 43/50\n",
      "72/72 [==============================] - 1s 14ms/step - loss: 0.5799 - accuracy: 0.6548\n",
      "Epoch 44/50\n",
      "72/72 [==============================] - 1s 13ms/step - loss: 0.5786 - accuracy: 0.6667\n",
      "Epoch 45/50\n",
      "72/72 [==============================] - 1s 14ms/step - loss: 0.5707 - accuracy: 0.6674\n",
      "Epoch 46/50\n",
      "72/72 [==============================] - 1s 14ms/step - loss: 0.5662 - accuracy: 0.6688\n",
      "Epoch 47/50\n",
      "72/72 [==============================] - 1s 14ms/step - loss: 0.5676 - accuracy: 0.6702\n",
      "Epoch 48/50\n",
      "72/72 [==============================] - 1s 14ms/step - loss: 0.5743 - accuracy: 0.6771\n",
      "Epoch 49/50\n",
      "72/72 [==============================] - 1s 14ms/step - loss: 0.5702 - accuracy: 0.6715\n",
      "Epoch 50/50\n",
      "72/72 [==============================] - 1s 14ms/step - loss: 0.5628 - accuracy: 0.6722\n",
      "------------\n",
      "Precision :  0.6017699115044248\n",
      "Recall :  0.7431693989071039\n",
      "F1 Score :  0.665036674816626\n",
      "Confusion Matrix :  [[ 86  90]\n",
      " [ 47 136]]\n",
      "Epoch 1/51\n",
      "72/72 [==============================] - 1s 14ms/step - loss: 0.6911 - accuracy: 0.5167\n",
      "Epoch 2/51\n",
      "72/72 [==============================] - 1s 14ms/step - loss: 0.6656 - accuracy: 0.5941\n",
      "Epoch 3/51\n",
      "72/72 [==============================] - 1s 14ms/step - loss: 0.6536 - accuracy: 0.5976\n",
      "Epoch 4/51\n",
      "72/72 [==============================] - 1s 14ms/step - loss: 0.6541 - accuracy: 0.6067\n",
      "Epoch 5/51\n",
      "72/72 [==============================] - 1s 14ms/step - loss: 0.6435 - accuracy: 0.6290\n",
      "Epoch 6/51\n",
      "72/72 [==============================] - 1s 14ms/step - loss: 0.6417 - accuracy: 0.6158\n",
      "Epoch 7/51\n",
      "72/72 [==============================] - 1s 14ms/step - loss: 0.6402 - accuracy: 0.6206\n",
      "Epoch 8/51\n",
      "72/72 [==============================] - 1s 14ms/step - loss: 0.6346 - accuracy: 0.6297\n",
      "Epoch 9/51\n",
      "72/72 [==============================] - 1s 14ms/step - loss: 0.6339 - accuracy: 0.6165\n",
      "Epoch 10/51\n",
      "72/72 [==============================] - 1s 14ms/step - loss: 0.6329 - accuracy: 0.6206\n",
      "Epoch 11/51\n",
      "72/72 [==============================] - 1s 14ms/step - loss: 0.6287 - accuracy: 0.6437\n",
      "Epoch 12/51\n",
      "72/72 [==============================] - 1s 14ms/step - loss: 0.6229 - accuracy: 0.6374\n",
      "Epoch 13/51\n",
      "72/72 [==============================] - 1s 14ms/step - loss: 0.6227 - accuracy: 0.6304\n",
      "Epoch 14/51\n",
      "72/72 [==============================] - 1s 15ms/step - loss: 0.6235 - accuracy: 0.6276\n",
      "Epoch 15/51\n",
      "72/72 [==============================] - 1s 14ms/step - loss: 0.6162 - accuracy: 0.6346\n",
      "Epoch 16/51\n",
      "72/72 [==============================] - 1s 14ms/step - loss: 0.6238 - accuracy: 0.6360\n",
      "Epoch 17/51\n",
      "72/72 [==============================] - 1s 14ms/step - loss: 0.6166 - accuracy: 0.6450\n",
      "Epoch 18/51\n",
      "72/72 [==============================] - 1s 14ms/step - loss: 0.6154 - accuracy: 0.6353\n",
      "Epoch 19/51\n",
      "72/72 [==============================] - 1s 14ms/step - loss: 0.6126 - accuracy: 0.6416\n",
      "Epoch 20/51\n",
      "72/72 [==============================] - 1s 14ms/step - loss: 0.6150 - accuracy: 0.6318\n",
      "Epoch 21/51\n",
      "72/72 [==============================] - 1s 14ms/step - loss: 0.6063 - accuracy: 0.6381\n",
      "Epoch 22/51\n",
      "72/72 [==============================] - 1s 14ms/step - loss: 0.6107 - accuracy: 0.6374\n",
      "Epoch 23/51\n",
      "72/72 [==============================] - 1s 14ms/step - loss: 0.6110 - accuracy: 0.6478\n",
      "Epoch 24/51\n",
      "72/72 [==============================] - 1s 14ms/step - loss: 0.6075 - accuracy: 0.6423\n",
      "Epoch 25/51\n",
      "72/72 [==============================] - 1s 14ms/step - loss: 0.6023 - accuracy: 0.6478\n",
      "Epoch 26/51\n",
      "72/72 [==============================] - 1s 14ms/step - loss: 0.6023 - accuracy: 0.6492\n",
      "Epoch 27/51\n",
      "72/72 [==============================] - 1s 14ms/step - loss: 0.6011 - accuracy: 0.6478\n",
      "Epoch 28/51\n",
      "72/72 [==============================] - 1s 14ms/step - loss: 0.5966 - accuracy: 0.6527\n",
      "Epoch 29/51\n",
      "72/72 [==============================] - 1s 14ms/step - loss: 0.5924 - accuracy: 0.6639\n",
      "Epoch 30/51\n",
      "72/72 [==============================] - 1s 13ms/step - loss: 0.5912 - accuracy: 0.6541\n",
      "Epoch 31/51\n"
     ]
    },
    {
     "name": "stdout",
     "output_type": "stream",
     "text": [
      "72/72 [==============================] - 1s 14ms/step - loss: 0.5952 - accuracy: 0.6590\n",
      "Epoch 32/51\n",
      "72/72 [==============================] - 1s 14ms/step - loss: 0.5960 - accuracy: 0.6541\n",
      "Epoch 33/51\n",
      "72/72 [==============================] - 1s 14ms/step - loss: 0.5976 - accuracy: 0.6492\n",
      "Epoch 34/51\n",
      "72/72 [==============================] - 1s 14ms/step - loss: 0.5899 - accuracy: 0.6625\n",
      "Epoch 35/51\n",
      "72/72 [==============================] - 1s 14ms/step - loss: 0.5904 - accuracy: 0.6548\n",
      "Epoch 36/51\n",
      "72/72 [==============================] - 1s 14ms/step - loss: 0.5873 - accuracy: 0.6618\n",
      "Epoch 37/51\n",
      "72/72 [==============================] - 1s 14ms/step - loss: 0.5888 - accuracy: 0.6576\n",
      "Epoch 38/51\n",
      "72/72 [==============================] - 1s 14ms/step - loss: 0.5834 - accuracy: 0.6695\n",
      "Epoch 39/51\n",
      "33/72 [============>.................] - ETA: 0s - loss: 0.5848 - accuracy: 0.6606"
     ]
    }
   ],
   "source": [
    "# Compile model and train\n",
    "\n",
    "output_dim_candidates = [10, 25, 50, 100]\n",
    "batch_size_candidates = [20, 40, 60]\n",
    "\n",
    "best_f1 = 0\n",
    "best_model = None\n",
    "best_history = None\n",
    "best_stats = None\n",
    "best_hyperparams = None\n",
    "for od in output_dim_candidates:\n",
    "    for batch_size in batch_size_candidates:\n",
    "        for epochs in range(50, 52):\n",
    "            model, history, (precision, recall, f1) = build_model(od, batch_size, epochs)\n",
    "            if f1 > best_f1:\n",
    "                best_f1 = f1\n",
    "                best_model = model\n",
    "                best_history = history\n",
    "                best_stats = (precision, recall, f1)\n",
    "                best_hyperparams = (od, batch_size, epochs)\n",
    "best_outputdim, best_batch_size, best_epochs = best_hyperparams\n",
    "best_precision, best_recall, best_f1 = best_stats"
   ]
  },
  {
   "cell_type": "markdown",
   "metadata": {
    "colab_type": "text",
    "id": "rniBBEiyMRKD"
   },
   "source": [
    "Examine performance of model"
   ]
  },
  {
   "cell_type": "code",
   "execution_count": 59,
   "metadata": {
    "colab": {},
    "colab_type": "code",
    "id": "eBVogHg2II5T",
    "tags": []
   },
   "outputs": [
    {
     "name": "stdout",
     "output_type": "stream",
     "text": [
      "Best Hyperparameters:\n",
      "output_dim:  50\n",
      "batch_size:  20\n",
      "# epochs:  6\n",
      "Best stats: \n",
      "precision:  0.5582191780821918\n",
      "recall:  0.8907103825136612\n",
      "f1 score:  0.6863157894736842\n"
     ]
    }
   ],
   "source": [
    "print(\"Best Hyperparameters:\")\n",
    "print(\"output_dim: \", best_outputdim)\n",
    "print(\"batch_size: \", best_batch_size)\n",
    "print(\"# epochs: \", best_epochs)\n",
    "print(\"Best stats: \")\n",
    "print(\"precision: \", best_precision)\n",
    "print(\"recall: \", best_recall)\n",
    "print(\"f1 score: \", best_f1)"
   ]
  },
  {
   "cell_type": "markdown",
   "metadata": {
    "colab_type": "text",
    "id": "HB8kzt-IME4U"
   },
   "source": [
    "Plot graphs for accuracy and loss"
   ]
  },
  {
   "cell_type": "code",
   "execution_count": 60,
   "metadata": {
    "colab": {},
    "colab_type": "code",
    "id": "hPyJ78unMJUI"
   },
   "outputs": [
    {
     "data": {
      "image/png": "[encoded data removed]",
      "text/plain": [
       "<Figure size 432x288 with 1 Axes>"
      ]
     },
     "metadata": {
      "needs_background": "light"
     },
     "output_type": "display_data"
    }
   ],
   "source": [
    "plt.figure()\n",
    "plt.plot(best_history.history['loss'], label='Loss')\n",
    "plt.plot(best_history.history['accuracy'], label='Accuracy')\n",
    "plt.legend(loc='upper left')\n",
    "plt.show()\n",
    "plt.close()"
   ]
  },
  {
   "cell_type": "markdown",
   "metadata": {
    "colab_type": "text",
    "id": "eAZ1LyFBMLoK"
   },
   "source": [
    "# Make a prediction"
   ]
  },
  {
   "cell_type": "code",
   "execution_count": 61,
   "metadata": {
    "colab": {},
    "colab_type": "code",
    "id": "vfPM5LokII5V",
    "tags": []
   },
   "outputs": [
    {
     "name": "stdout",
     "output_type": "stream",
     "text": [
      "this book is fabulous  :  negative\n",
      "i hated this book  :  negative\n",
      "the best  :  negative\n",
      "no good  :  negative\n",
      "okay  :  negative\n"
     ]
    }
   ],
   "source": [
    "# This is a very small set of completed new data to use to make predictions.\n",
    "prediction_data = [\"this book is fabulous\",\"i hated this book\", \"the best\", \"no good\", \"okay\"]\n",
    "tokenized = tokenizer.texts_to_sequences(prediction_data)\n",
    "padded = pad_sequences(tokenized, padding='post', maxlen=25)\n",
    "\n",
    "# Supply this data to each of your models and see how it does. \n",
    "# You can call the helper function \"to_word_label\" to map the output of the model to the name of the\n",
    "# class it was predicted to belong to.\n",
    "y_pred = to_word_label(best_model.predict(padded))\n",
    "for i in range(len(y_pred)):\n",
    "    print(prediction_data[i], \" : \", y_pred[i])"
   ]
  },
  {
   "cell_type": "code",
   "execution_count": null,
   "metadata": {},
   "outputs": [],
   "source": []
  }
 ],
 "metadata": {
  "colab": {
   "collapsed_sections": [],
   "name": "L3T20.ipynb",
   "provenance": []
  },
  "kernelspec": {
   "display_name": "Python 3",
   "language": "python",
   "name": "python3"
  },
  "language_info": {
   "codemirror_mode": {
    "name": "ipython",
    "version": 3
   },
   "file_extension": ".py",
   "mimetype": "text/x-python",
   "name": "python",
   "nbconvert_exporter": "python",
   "pygments_lexer": "ipython3",
   "version": "3.8.5"
  }
 },
 "nbformat": 4,
 "nbformat_minor": 1
}
